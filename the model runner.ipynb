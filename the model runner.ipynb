{
  "nbformat": 4,
  "nbformat_minor": 0,
  "metadata": {
    "colab": {
      "provenance": []
    },
    "kernelspec": {
      "name": "python3",
      "display_name": "Python 3"
    },
    "language_info": {
      "name": "python"
    }
  },
  "cells": [
    {
      "cell_type": "code",
      "execution_count": 12,
      "metadata": {
        "colab": {
          "base_uri": "https://localhost:8080/"
        },
        "id": "_NyU5Lm089wS",
        "outputId": "713aa110-0c2f-4044-f7f3-fbb2feab392f"
      },
      "outputs": [
        {
          "output_type": "stream",
          "name": "stdout",
          "text": [
            "Drive already mounted at /content/drive/; to attempt to forcibly remount, call drive.mount(\"/content/drive/\", force_remount=True).\n"
          ]
        }
      ],
      "source": [
        "from google.colab import drive\n",
        "drive.mount('/content/drive/')"
      ]
    },
    {
      "cell_type": "code",
      "source": [
        "import re\n",
        "import numpy as np\n",
        "import tensorflow as tf\n",
        "from tensorflow.keras.preprocessing.sequence import pad_sequences\n",
        "import pickle"
      ],
      "metadata": {
        "id": "61w5_Omi9Xal"
      },
      "execution_count": 13,
      "outputs": []
    },
    {
      "cell_type": "code",
      "source": [
        "model_path = '/content/drive/MyDrive/best_lstm_complete_model.h5'\n",
        "tokenizer_path = '/content/drive/MyDrive/tokenizer.pickle'\n",
        "label_encoder_path = '/content/drive/MyDrive/label_encoder.pickle'"
      ],
      "metadata": {
        "id": "7evTGQgp9Y5U"
      },
      "execution_count": 14,
      "outputs": []
    },
    {
      "cell_type": "code",
      "source": [
        "# -------------------------\n",
        "# Text cleaning function\n",
        "# -------------------------\n",
        "def clean_text(text):\n",
        "    \"\"\"\n",
        "    Lowercase, remove special characters, and strip whitespace\n",
        "    \"\"\"\n",
        "    text = text.lower()\n",
        "    text = re.sub(r'[^a-zA-Z0-9\\s]', '', text)\n",
        "    text = text.strip()\n",
        "    return text"
      ],
      "metadata": {
        "id": "BMsnuiqr9c-3"
      },
      "execution_count": 15,
      "outputs": []
    },
    {
      "cell_type": "code",
      "source": [
        "# -------------------------\n",
        "# Load model, tokenizer, and label encoder ONCE\n",
        "# -------------------------\n",
        "\n",
        "print(\"Loading model and preprocessing objects...\")\n",
        "model = tf.keras.models.load_model(model_path)\n",
        "with open(tokenizer_path, 'rb') as handle:\n",
        "    tokenizer = pickle.load(handle)\n",
        "with open(label_encoder_path, 'rb') as handle:\n",
        "    label_encoder = pickle.load(handle)\n",
        "print(\"Loaded successfully!\")"
      ],
      "metadata": {
        "colab": {
          "base_uri": "https://localhost:8080/"
        },
        "id": "GINjUBHH9iX5",
        "outputId": "bd6a26c7-d53a-4011-e16b-05573deacd80"
      },
      "execution_count": 16,
      "outputs": [
        {
          "output_type": "stream",
          "name": "stdout",
          "text": [
            "Loading model and preprocessing objects...\n"
          ]
        },
        {
          "output_type": "stream",
          "name": "stderr",
          "text": [
            "WARNING:absl:Compiled the loaded model, but the compiled metrics have yet to be built. `model.compile_metrics` will be empty until you train or evaluate the model.\n"
          ]
        },
        {
          "output_type": "stream",
          "name": "stdout",
          "text": [
            "Loaded successfully!\n"
          ]
        }
      ]
    },
    {
      "cell_type": "code",
      "source": [
        "# -------------------------\n",
        "# Prediction function\n",
        "# -------------------------\n",
        "def quick_category_predict(text):\n",
        "    \"\"\"\n",
        "    Predict the category of a single text\n",
        "    Returns: category, confidence\n",
        "    \"\"\"\n",
        "    cleaned = clean_text(text)\n",
        "    sequence = tokenizer.texts_to_sequences([cleaned])\n",
        "    padded = pad_sequences(sequence, maxlen=500, padding='post', truncating='post')\n",
        "    prediction = model.predict(padded, verbose=0)\n",
        "\n",
        "    predicted_idx = np.argmax(prediction, axis=1)[0]\n",
        "    confidence = np.max(prediction, axis=1)[0]\n",
        "    category = label_encoder.inverse_transform([predicted_idx])[0]\n",
        "\n",
        "    return category, confidence"
      ],
      "metadata": {
        "id": "De97LquO-G2N"
      },
      "execution_count": 17,
      "outputs": []
    },
    {
      "cell_type": "code",
      "source": [
        "# -------------------------\n",
        "# Test examples\n",
        "# -------------------------\n",
        "quick_texts = [\n",
        "    \"My new mobile phone broke\",\n",
        "    \"india won the asia cricket cup\",\n",
        "    \"the salary payment is today\"\n",
        "]\n",
        "\n",
        "print(\"\\n🚀 QUICK PREDICTION EXAMPLES:\")\n",
        "print(\"-\" * 50)\n",
        "for text in quick_texts:\n",
        "    category, confidence = quick_category_predict(text)\n",
        "    print(f\"Text: '{text[:50]}...'\")\n",
        "    print(f\"→ {category.upper()} ({confidence:.2%} confidence)\")\n",
        "    print()"
      ],
      "metadata": {
        "colab": {
          "base_uri": "https://localhost:8080/"
        },
        "id": "Q5Rsf0Y2-Km_",
        "outputId": "beb8cdf9-cb6f-4403-cb9d-a866e7d4949d"
      },
      "execution_count": 18,
      "outputs": [
        {
          "output_type": "stream",
          "name": "stdout",
          "text": [
            "\n",
            "🚀 QUICK PREDICTION EXAMPLES:\n",
            "--------------------------------------------------\n",
            "Text: 'My new mobile phone broke...'\n",
            "→ TECH (89.94% confidence)\n",
            "\n",
            "Text: 'india won the asia cricket cup...'\n",
            "→ SPORT (66.74% confidence)\n",
            "\n",
            "Text: 'the salary payment is today...'\n",
            "→ BUSINESS (58.46% confidence)\n",
            "\n"
          ]
        }
      ]
    }
  ]
}